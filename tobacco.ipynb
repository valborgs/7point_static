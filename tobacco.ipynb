{
 "cells": [
  {
   "cell_type": "code",
   "execution_count": 2,
   "id": "81c8614a",
   "metadata": {},
   "outputs": [],
   "source": [
    "import pandas as pd"
   ]
  },
  {
   "cell_type": "code",
   "execution_count": 3,
   "id": "61fb697f",
   "metadata": {},
   "outputs": [
    {
     "name": "stdout",
     "output_type": "stream",
     "text": [
      "hello world\n"
     ]
    }
   ],
   "source": [
    "print(\"hello world\")"
   ]
  },
  {
   "cell_type": "code",
   "execution_count": 4,
   "id": "dae6354c",
   "metadata": {},
   "outputs": [],
   "source": [
    "# 엑셀파일 읽어오기\n",
    "xl=pd.read_excel('tobacco_data.xlsx')"
   ]
  },
  {
   "cell_type": "code",
   "execution_count": 34,
   "id": "9eb056c5",
   "metadata": {
    "scrolled": true
   },
   "outputs": [
    {
     "name": "stdout",
     "output_type": "stream",
     "text": [
      "Index(['idx', 'grpid', 'resid', 'fwid', 'mobileaccess', 'browser', 'UserAgent',\n",
      "       'st_date', 'reg_date', 'total_time', 'rtpage', 'onpage', 'OutMarker',\n",
      "       'SQ1', 'SQ2', 'SQ2_1', 'SQ3', 'SQ3_1', 'SQ4', 'SQ5', 'AQ0', 'BQ0',\n",
      "       'AQ1', 'AQ2', 'AQ3_1', 'AQ4', 'AQ5', 'AQ6_1', 'AQ7', 'AQ8', 'AQ9',\n",
      "       'AQ10', 'AQ11', 'AQ12', 'AQ13', 'AQ14', 'AQ15', 'AQ16', 'AQ17',\n",
      "       'AQ17_1', 'AQ17_2', 'AQ18', 'BQ1', 'BQ2', 'BQ3_1', 'BQ4', 'BQ5',\n",
      "       'BQ6_1', 'BQ7', 'BQ8', 'BQ9', 'BQ10', 'BQ11', 'BQ12', 'BQ13', 'BQ14',\n",
      "       'BQ15', 'BQ16', 'BQ17', 'BQ17_1', 'BQ17_2', 'BQ18'],\n",
      "      dtype='object')\n"
     ]
    }
   ],
   "source": [
    "print(xl.columns)"
   ]
  },
  {
   "cell_type": "code",
   "execution_count": 69,
   "id": "31927c43",
   "metadata": {},
   "outputs": [],
   "source": [
    "# 필요없는 변수 리스트\n",
    "dellist = ['idx','grpid','resid','fwid','mobileaccess','browser','UserAgent','st_date','reg_date','total_time','rtpage','onpage','OutMarker','SQ1','SQ2','SQ2_1','SQ3','SQ3_1','SQ4','SQ5','AQ0','BQ0','AQ17_1','AQ17_2','BQ17_1','BQ17_2']\n",
    "\n",
    "# 필요없는 변수 제거\n",
    "xl2=xl.drop(dellist,axis=1)\n",
    "    \n",
    "# jrs 계산 기본 점수에 -4 (Q3_1,Q6_1)\n",
    "jrslist = ['AQ3_1','AQ6_1','BQ3_1','BQ6_1']\n",
    "for i in jrslist:\n",
    "    xl2[i]=xl2[i].sub(4)"
   ]
  },
  {
   "cell_type": "code",
   "execution_count": 70,
   "id": "5c365541",
   "metadata": {
    "scrolled": true
   },
   "outputs": [
    {
     "name": "stdout",
     "output_type": "stream",
     "text": [
      "                  AQ1        AQ2        AQ4        AQ5        AQ7        AQ8  \\\n",
      "top1cnt     13.333333  13.333333   6.666667  10.000000   0.000000   0.000000   \n",
      "top2cnt     50.000000  33.333333  20.000000  36.666667  36.666667  53.333333   \n",
      "top3cnt     86.666667  73.333333  50.000000  73.333333  70.000000  83.333333   \n",
      "bottom1cnt   0.000000   0.000000   0.000000   0.000000   0.000000   0.000000   \n",
      "bottom2cnt   3.333333   3.333333   0.000000   3.333333   3.333333   0.000000   \n",
      "bottom3cnt   3.333333   6.666667  10.000000  10.000000  10.000000   6.666667   \n",
      "Mean         5.433333   5.100000   4.666667   5.066667   4.933333   5.300000   \n",
      "\n",
      "                  AQ9       AQ10       AQ11       AQ12  ...        BQ9  \\\n",
      "top1cnt     23.333333  13.333333   6.666667   6.666667  ...  16.666667   \n",
      "top2cnt     60.000000  53.333333  46.666667  36.666667  ...  53.333333   \n",
      "top3cnt     90.000000  83.333333  76.666667  56.666667  ...  80.000000   \n",
      "bottom1cnt   0.000000   0.000000   0.000000   0.000000  ...   0.000000   \n",
      "bottom2cnt   3.333333   0.000000   0.000000   3.333333  ...   0.000000   \n",
      "bottom3cnt   3.333333   6.666667  13.333333  16.666667  ...   6.666667   \n",
      "Mean         5.666667   5.433333   5.166667   4.800000  ...   5.433333   \n",
      "\n",
      "                 BQ10       BQ11       BQ12       BQ13       BQ14       BQ15  \\\n",
      "top1cnt     13.333333   6.666667   6.666667   0.000000   6.666667   3.333333   \n",
      "top2cnt     40.000000  36.666667  26.666667   6.666667  33.333333  36.666667   \n",
      "top3cnt     66.666667  70.000000  63.333333  33.333333  70.000000  76.666667   \n",
      "bottom1cnt   0.000000   0.000000   3.333333  13.333333   0.000000   0.000000   \n",
      "bottom2cnt   3.333333   3.333333   6.666667  26.666667   6.666667   0.000000   \n",
      "bottom3cnt  10.000000  10.000000  10.000000  53.333333  10.000000  10.000000   \n",
      "Mean         5.066667   5.000000   4.766667   3.466667   4.933333   5.066667   \n",
      "\n",
      "                 BQ16       BQ17       BQ18  \n",
      "top1cnt      3.333333   6.666667   6.666667  \n",
      "top2cnt     40.000000  40.000000  26.666667  \n",
      "top3cnt     76.666667  70.000000  46.666667  \n",
      "bottom1cnt   0.000000   3.333333  10.000000  \n",
      "bottom2cnt   3.333333   6.666667  10.000000  \n",
      "bottom3cnt   6.666667  10.000000  30.000000  \n",
      "Mean         5.100000   4.966667   4.300000  \n",
      "\n",
      "[7 rows x 32 columns]\n",
      "                   AQ3_1      AQ6_1      BQ3_1      BQ6_1\n",
      "TM%(+3)         3.333333   0.000000   0.000000   0.000000\n",
      "TM%(+2,+3)     13.333333   3.333333  10.000000  10.000000\n",
      "TM%(+1,+2,+3)  23.333333  23.333333  33.333333  26.666667\n",
      "JR%(-1,0,+1)   86.666667  93.333333  86.666667  90.000000\n",
      "JR%(0)         63.333333  73.333333  50.000000  66.666667\n",
      "TL%(-3)         0.000000   0.000000   0.000000   0.000000\n",
      "TL%(-2,-3)      0.000000   3.333333   3.333333   0.000000\n",
      "TL%(-1,-2,-3)  13.333333   3.333333  16.666667   6.666667\n",
      "Mean            0.266667   0.200000   0.233333   0.300000\n"
     ]
    }
   ],
   "source": [
    "# top1% 부터 bottom3%, 평균값까지 통계값 구하는 계산식\n",
    "def calStat(df,ord,num):\n",
    "    #num = 7 또는 3(jrs), 7점척도 기준임\n",
    "    totcnt = len(df)\n",
    "    top1cnt = len(df[df[ord]==num])/totcnt*100\n",
    "    top2cnt = len(df[(df[ord]==num) | (df[ord]==num-1)])/totcnt*100\n",
    "    top3cnt = len(df[(df[ord]==num) | (df[ord]==num-1) | (df[ord]==num-2)])/totcnt*100\n",
    "    bottom1cnt = len(df[df[ord]==num-6])/totcnt*100\n",
    "    bottom2cnt = len(df[(df[ord]==num-6) | (df[ord]==num-5)])/totcnt*100\n",
    "    bottom3cnt = len(df[(df[ord]==num-6) | (df[ord]==num-5) | (df[ord]==num-4)])/totcnt*100\n",
    "    totmean = df[ord].mean()\n",
    "    \n",
    "    if num==3:\n",
    "        #jrs문항의 경우 따로 (-1,0,1) 통계값 구해야함\n",
    "        jr3 = len(df[(df[ord]==1) | (df[ord]==0) | (df[ord]==-1)])/totcnt*100\n",
    "        jr0 = len(df[df[ord]==0])/totcnt*100\n",
    "        result = [top1cnt,top2cnt,top3cnt,jr3,jr0,bottom1cnt,bottom2cnt,bottom3cnt,totmean]\n",
    "    else:\n",
    "        result = [top1cnt,top2cnt,top3cnt,bottom1cnt,bottom2cnt,bottom3cnt,totmean]\n",
    "        \n",
    "    return result\n",
    "\n",
    "\n",
    "# 새로운 데이터프레임 만들어줄 빈 딕셔너리 만들어놓기\n",
    "xl3={}\n",
    "xl3_jrs={}\n",
    "jrs_columns=[]\n",
    "xl3_columns=[]\n",
    "# 각 변수별 통계값 구하여 빈 딕셔너리에 넣어주기\n",
    "for i in xl2.columns:\n",
    "    if len(i.split('_'))>1: #jrs문항이면 따로 빼주기\n",
    "        xl3_jrs[i] = xl2.pop(i) # Series 형태로 빠지게 된다 추후 데이터 프레임형식으로 변환해주어야 함\n",
    "        jrs_columns.append(i)\n",
    "    else:\n",
    "        xl3[i]=calStat(xl2,i,7)\n",
    "        xl3_columns.append(i)\n",
    "\n",
    "# 통계값이 들어간 딕셔너리를 데이터프레임으로 변환(행이름(index),열이름(columns) 직접 붙여주기)\n",
    "xl_tot=pd.DataFrame(xl3,index=['top1cnt','top2cnt','top3cnt','bottom1cnt','bottom2cnt','bottom3cnt','Mean'],columns=xl3_columns)\n",
    "print(xl_tot)\n",
    "\n",
    "#jrs문항\n",
    "xl4_jrs=pd.DataFrame(xl3_jrs,columns=jrs_columns) # 앞에서 Series형태로 빼주었기때문에 데이터 프레임으로 변환\n",
    "xl5_jrs={}\n",
    "\n",
    "for i in jrs_columns:\n",
    "    xl5_jrs[i]=calStat(xl4_jrs,i,3)\n",
    "\n",
    "xl_tot_jrs=pd.DataFrame(xl5_jrs,index=['TM%(+3)','TM%(+2,+3)','TM%(+1,+2,+3)','JR%(-1,0,+1)','JR%(0)','TL%(-3)','TL%(-2,-3)','TL%(-1,-2,-3)','Mean'],columns=jrs_columns)\n",
    "print(xl_tot_jrs)\n",
    "\n",
    "\n",
    "# xl_tot는 일반문항 통계 df\n",
    "# xl_tot_jrs는 jrs문항 통계 df\n"
   ]
  },
  {
   "cell_type": "code",
   "execution_count": 71,
   "id": "23a89e9a",
   "metadata": {},
   "outputs": [],
   "source": [
    "#엑셀 파일에 여러 개 시트로 생성\n",
    "writer=pd.ExcelWriter('report_tobacco.xlsx', engine='openpyxl')\n",
    "\n",
    "xl_tot.to_excel(writer, sheet_name=('전체 '+str(totcnt))+'명')\n",
    "xl_tot_jrs.to_excel(writer, sheet_name=('JRS 전체 '+str(totcnt))+'명')\n",
    "\n",
    "writer.save()"
   ]
  },
  {
   "cell_type": "code",
   "execution_count": null,
   "id": "0887c96c",
   "metadata": {},
   "outputs": [],
   "source": [
    "#엑셀 파일에 여러 개 시트로 생성\n",
    " \n",
    " \n",
    "#1. 파일 생성\n",
    "# writer=pd.ExcelWriter('테스트파일명.xlsx', engine='openpyxl')\n",
    " \n",
    "#2. 생성 파일에 시트명 지정 후 dataframe에 저장한 결과값 넣기\n",
    "# df1.to_excel(writer, sheet_name='sheet1')\n",
    "# df2.to_excel(writer, sheet_name='sheet2')\n",
    "# df3.to_excel(writer, sheet_name='sheet3')\n",
    "# df4.to_excel(writer, sheet_name='sheet4')\n",
    " \n",
    "#3. 작성 완료 후 파일 저장\n",
    "# writer.save()\n"
   ]
  }
 ],
 "metadata": {
  "kernelspec": {
   "display_name": "Python 3 (ipykernel)",
   "language": "python",
   "name": "python3"
  },
  "language_info": {
   "codemirror_mode": {
    "name": "ipython",
    "version": 3
   },
   "file_extension": ".py",
   "mimetype": "text/x-python",
   "name": "python",
   "nbconvert_exporter": "python",
   "pygments_lexer": "ipython3",
   "version": "3.9.12"
  }
 },
 "nbformat": 4,
 "nbformat_minor": 5
}
